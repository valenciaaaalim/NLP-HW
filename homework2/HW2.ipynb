{
 "cells": [
  {
   "cell_type": "markdown",
   "metadata": {},
   "source": [
    "# 50.040 Natural Language Processing (Fall 2025) Homework 2\n",
    "\n",
    "**Due 26 October 2025, 23:59 PM**"
   ]
  },
  {
   "cell_type": "markdown",
   "metadata": {},
   "source": [
    "\n",
    "### STUDENT ID: 1006045\n",
    "\n",
    "### Name: VALENCIA\n",
    "\n",
    "### Students with whom you have discussed (if any):"
   ]
  },
  {
   "cell_type": "code",
   "execution_count": 54,
   "metadata": {},
   "outputs": [],
   "source": [
    "import torch\n",
    "from torch import nn\n",
    "import matplotlib.pyplot as plt\n",
    "from d2l import torch as d2l"
   ]
  },
  {
   "cell_type": "markdown",
   "metadata": {},
   "source": [
    "One of the core challenges in NLP is how to represent language, the nature of which lies in its sequential structure of words. To address this, various sequence modeling architectures have been proposed. The most prominent models include the early RNN (Recurrent Neural Network), LSTM (Long Short-Term Memory network), and the more recent Transformer. They differ primarily in how they processes information. RNN processes sequences step by step but struggles with long-range dependencies. LSTM introduces gating mechanisms to selectively retain information over long sequences. In contrast, Transformer relies on attention mechanisms to capture dependencies across all positions in a sequence.\n",
    "\n",
    "This homework provides a concise review of RNN and LSTM, with particular emphasis on how they model contextual information. It then shifts focus to attention mechanism, introducing its basic operations, its applications in sequence-to-sequence learning, and its multi-head variant."
   ]
  },
  {
   "cell_type": "markdown",
   "metadata": {},
   "source": [
    "## RNN and LSTM\n",
    "The primary challenge of processing a sequence $(\\mathbf{x}_1, \\mathbf{x}_2, \\dots, \\mathbf{x}_T)$ lies in capturing contextual dependencies among elements. Although conventional feedforward neural networks treat each element independently, RNN introduces a hidden state $\\mathbf{h}_t$ that serves as an internal memory, allowing the model to retain and utilize information from previous time steps.\n",
    "\n",
    "![rnn](rnn.png)\n",
    "\n",
    "For a simple RNN with hidden size $h$ and input size $d$, the update of $\\mathbf{h}_t$ is:\n",
    "\n",
    "\\begin{equation}\n",
    "\\mathbf{h}_t = \\tanh(\\mathbf{x}_t \\mathbf{W}_x + \\mathbf{h}_{t-1} \\mathbf{W}_h + \\mathbf{b})\n",
    "\\end{equation}\n",
    "\n",
    "Here, $\\mathbf{x}_t \\in \\mathcal{R}^{d}$ represents the input at the current time step, which could be a word embedding or a feature vector. The term $\\mathbf{h}_{t-1} \\in \\mathcal{R}^{h}$ is the hidden state from the previous step. The matrices $\\mathbf{W}_x \\in \\mathcal{R}^{d \\times h}$ and $\\mathbf{W}_h \\in \\mathcal{R}^{h \\times h}$ transform the input and the previous hidden state into the hidden space, while $\\mathbf{b} \\in \\mathcal{R}^{h}$ is a bias term. The $\\tanh$ introduces nonlinearity into the model, squashing the combined input to values between -1 and 1.\n",
    "\n",
    "The hidden state of RNN naturally propagates information through time. However, when the sequence becomes long, RNN faces difficulties such as vanishing and exploding gradients, which make RNN hard to learn long-term dependencies.\n",
    "\n",
    "To address this, LSTM was introduced. It extends RNN by adding a cell state $\\mathbf{c}_t$ for long-term memory and a set of gates that control which information to remember, forget, or output.\n",
    "\n",
    "![lstm](lstm.png)\n",
    "\n",
    "The forward pass for an LSTM at a single time step updates both the hidden state $\\mathbf{h}_t$ and the cell state $\\mathbf{c}_t$ as follows:\n",
    "\n",
    "\\begin{equation}\n",
    "\\begin{aligned}\n",
    "\\mathbf{f}_t &= \\sigma\\big(\\mathbf{x}_t \\mathbf{W}_f + \\mathbf{h}_{t-1} \\mathbf{U}_f + \\mathbf{b}_f\\big), \\\\\n",
    "\\mathbf{i}_t &= \\sigma\\big(\\mathbf{x}_t \\mathbf{W}_i + \\mathbf{h}_{t-1} \\mathbf{U}_i + \\mathbf{b}_i\\big), \\\\\n",
    "\\mathbf{o}_t &= \\sigma\\big(\\mathbf{x}_t \\mathbf{W}_o + \\mathbf{h}_{t-1} \\mathbf{U}_o + \\mathbf{b}_o\\big), \\\\\n",
    "\\tilde{\\mathbf{c}}_t &= \\tanh\\big(\\mathbf{x}_t \\mathbf{W}_c + \\mathbf{h}_{t-1} \\mathbf{U}_c + \\mathbf{b}_c\\big), \\\\\n",
    "\\mathbf{c}_t &= \\mathbf{f}_t \\odot \\mathbf{c}_{t-1} + \\mathbf{i}_t \\odot \\tilde{\\mathbf{c}}_t, \\\\\n",
    "\\mathbf{h}_t &= \\mathbf{o}_t \\odot \\tanh(\\mathbf{c}_t).\n",
    "\\end{aligned}\n",
    "\\end{equation}\n",
    "\n",
    "\n",
    "Here, $\\mathbf{f}_t$, $\\mathbf{i}_t$, and $\\mathbf{o}_t$ are the forget, input, and output gates, respectively. The forget gate $\\mathbf{f}_t$ determines how much of the previous cell state $\\mathbf{c}_{t-1}$ should be retained. The input gate $\\mathbf{i}_t$ controls how much of the new candidate memory $\\tilde{\\mathbf{c}}_t$ should be added to the cell state. The updated cell state $\\mathbf{c}_t$ combines retained memory and newly selected information. The output gate $\\mathbf{o}_t$ modulates the information from the cell state that will be exposed as the hidden state $\\mathbf{h}_t$. The element-wise multiplication $\\odot$ ensures selective gating, allowing the network to retain or suppress specific components of memory. The $\\mathbf{W}_f, \\mathbf{W}_i, \\mathbf{W}_o, \\mathbf{W}_c \\in \\mathcal{R}^{d \\times h}$ and $\\mathbf{U}_f, \\mathbf{U}_i, \\mathbf{U}_o, \\mathbf{U}_c \\in \\mathcal{R}^{h \\times h}$ are weight matrices of parameters conducting projections. The function $\\sigma$ represents the sigmoid activation, which outputs values between 0 and 1, controlling how much information flows through each gate.\n",
    "\n",
    "\n",
    "Compared to a vanilla RNN, LSTM gives finer control over memory. It can remember things for a long time and forget things when they are no longer relevant. This is why it performs much better at capturing long-term dependencies."
   ]
  },
  {
   "cell_type": "markdown",
   "metadata": {},
   "source": [
    "### Question 1 [code] (10 points)\n",
    "\n",
    "Implement the single-step forward pass for both an RNN and an LSTM."
   ]
  },
  {
   "cell_type": "code",
   "execution_count": 55,
   "metadata": {},
   "outputs": [],
   "source": [
    "def rnn_step(x_t, h_prev, W_x, W_h, b):\n",
    "    \"\"\"\n",
    "    Single-step forward pass for a vanilla RNN.\n",
    "    \"\"\"\n",
    "    # Shape of x_t: (d,)\n",
    "    # Shape of h_prev: (h,)\n",
    "    # Shape of W_x: (d, h)\n",
    "    # Shape of W_h: (h, h)\n",
    "    # Shape of b: (h,)\n",
    "    \n",
    "    ### YOUR CODE HERE (5 points)\n",
    "    h_t = torch.tanh(x_t @ W_x + h_prev @ W_h + b)\n",
    "    ### END OF YOUR CODE\n",
    "    return h_t"
   ]
  },
  {
   "cell_type": "code",
   "execution_count": 56,
   "metadata": {},
   "outputs": [],
   "source": [
    "def lstm_step(x_t, h_prev, c_prev, W_f, U_f, b_f, W_i, U_i, b_i,\n",
    "              W_o, U_o, b_o, W_c, U_c, b_c):\n",
    "    \"\"\"\n",
    "    Single-step forward pass for an LSTM.\n",
    "    \"\"\"\n",
    "    # Shape of x_t: (d,)\n",
    "    # Shape of h_prev: (h,)\n",
    "    # Shape of c_prev: (h,)\n",
    "    # Shape of W_*, U_*, b_*: (d, h), (h, h), (h,)\n",
    "\n",
    "    ### YOUR CODE HERE (5 points)\n",
    "    f_t = torch.sigmoid(x_t @ W_f + h_prev @ U_f + b_f)\n",
    "    i_t = torch.sigmoid(x_t @ W_i + h_prev @ U_i + b_i)\n",
    "    o_t = torch.sigmoid(x_t @ W_o + h_prev @ U_o + b_o)\n",
    "    c_tilde_t = torch.tanh(x_t @ W_c + h_prev @ U_c + b_c)\n",
    "    c_t = f_t * c_prev + i_t * c_tilde_t\n",
    "    h_t = o_t * torch.tanh(c_t) \n",
    "    ### END OF YOUR CODE\n",
    "    return h_t, c_t"
   ]
  },
  {
   "cell_type": "code",
   "execution_count": 57,
   "metadata": {},
   "outputs": [
    {
     "name": "stdout",
     "output_type": "stream",
     "text": [
      "Pass!\n"
     ]
    }
   ],
   "source": [
    "# sanity check\n",
    "d, h = 4, 3\n",
    "\n",
    "x_t = torch.randn(d)\n",
    "h_prev = torch.randn(h)\n",
    "c_prev = torch.randn(h)\n",
    "\n",
    "W_x, W_h, b = torch.randn(d,h), torch.randn(h,h), torch.randn(h)\n",
    "W_f, U_f, b_f = torch.randn(d,h), torch.randn(h,h), torch.randn(h)\n",
    "W_i, U_i, b_i = torch.randn(d,h), torch.randn(h,h), torch.randn(h)\n",
    "W_o, U_o, b_o = torch.randn(d,h), torch.randn(h,h), torch.randn(h)\n",
    "W_c, U_c, b_c = torch.randn(d,h), torch.randn(h,h), torch.randn(h)\n",
    "\n",
    "h_rnn = rnn_step(x_t, h_prev, W_x, W_h, b)\n",
    "d2l.check_shape(h_rnn, (h,))\n",
    "\n",
    "h_lstm, c_lstm = lstm_step(x_t, h_prev, c_prev, W_f, U_f, b_f, W_i, U_i, b_i,\n",
    "                            W_o, U_o, b_o, W_c, U_c, b_c)\n",
    "d2l.check_shape(h_lstm, (h,))\n",
    "d2l.check_shape(c_lstm, (h,))\n",
    "print(\"Pass!\")"
   ]
  },
  {
   "cell_type": "markdown",
   "metadata": {},
   "source": [
    "### Question 2 [code] (10 points)\n",
    "\n",
    "Implement the sequence-level forward functions that iterate through all time steps, updating the hidden state, and in the case of LSTM, also updating the cell state at each step. \n",
    "\n",
    "You should leverage the single-step functions implemented in Question 1."
   ]
  },
  {
   "cell_type": "code",
   "execution_count": 58,
   "metadata": {},
   "outputs": [],
   "source": [
    "def rnn_forward(X, h0, W_x, W_h, b):\n",
    "    \"\"\"\n",
    "    Full-sequence forward pass for a vanilla RNN.\n",
    "    \"\"\"\n",
    "    # Shape of X: (T, d)\n",
    "    # Shape of h0: (h,)\n",
    "    # Shape of W_x: (d, h)\n",
    "    # Shape of W_h: (h, h)\n",
    "    # Shape of b: (h,)\n",
    "\n",
    "    T = X.shape[0] # sequence length\n",
    "    H_seq = [] # list to store hidden states\n",
    "    h_t = h0\n",
    "    ### YOUR CODE HERE (5 points)\n",
    "    for t in range(T):\n",
    "        h_t = rnn_step(X[t], h_t, W_x, W_h, b)\n",
    "        H_seq.append(h_t)\n",
    "    ### END OF YOUR CODE\n",
    "    H_seq = torch.stack(H_seq) # Shape of H_seq: (T, h)\n",
    "    return H_seq"
   ]
  },
  {
   "cell_type": "code",
   "execution_count": 59,
   "metadata": {},
   "outputs": [],
   "source": [
    "def lstm_forward(X, h0, c0, W_f, U_f, b_f, W_i, U_i, b_i,\n",
    "                 W_o, U_o, b_o, W_c, U_c, b_c):\n",
    "    \"\"\"\n",
    "    Full-sequence forward pass for an LSTM.\n",
    "    \"\"\"\n",
    "    # Shape of X: (T, d)\n",
    "    # Shape of h0: (h,)\n",
    "    # Shape of c0: (h,)\n",
    "    # Shape of W_*, U_*, b_*: (d, h), (h, h), (h,)\n",
    "    \n",
    "    T = X.shape[0]\n",
    "    H_seq, C_seq = [], [] # lists to store hidden and cell states\n",
    "    h_t, c_t = h0, c0 \n",
    "    ### YOUR CODE HERE (5 points)\n",
    "    for t in range(T):\n",
    "        h_t, c_t = lstm_step(X[t], h_t, c_t, W_f, U_f, b_f, W_i, U_i, b_i,\n",
    "                             W_o, U_o, b_o, W_c, U_c, b_c)\n",
    "        H_seq.append(h_t)\n",
    "        C_seq.append(c_t)\n",
    "    ### END OF YOUR CODE\n",
    "    H_seq = torch.stack(H_seq) \n",
    "    C_seq = torch.stack(C_seq) \n",
    "    return H_seq, C_seq"
   ]
  },
  {
   "cell_type": "code",
   "execution_count": 60,
   "metadata": {},
   "outputs": [
    {
     "name": "stdout",
     "output_type": "stream",
     "text": [
      "Pass!\n"
     ]
    }
   ],
   "source": [
    "# sanity check\n",
    "T, D, H = 5, 4, 3  # sequence length, input dimension, hidden size\n",
    "X = torch.randn(T, D)\n",
    "h0 = torch.zeros(H)\n",
    "c0 = torch.zeros(H)\n",
    "\n",
    "H_rnn = rnn_forward(X, h0, W_x, W_h, b)\n",
    "d2l.check_shape(H_rnn, (5, 3))\n",
    "\n",
    "H_lstm, C_lstm = lstm_forward(X, h0, c0, W_f, U_f, b_f, W_i, U_i, b_i,\n",
    "                              W_o, U_o, b_o, W_c, U_c, b_c)\n",
    "d2l.check_shape(H_lstm, (5, 3))\n",
    "d2l.check_shape(C_lstm, (5, 3))\n",
    "\n",
    "print(\"Pass!\")"
   ]
  },
  {
   "cell_type": "markdown",
   "metadata": {},
   "source": [
    "## Attention Mechanisms\n",
    "\n",
    "Consider the following: denote by $\\mathcal{D} = \\{(\\mathbf{k}_1, \\mathbf{v}_1), \\ldots, (\\mathbf{k}_m, \\mathbf{v}_m)\\}$ a database of $m$ tuples of *keys* and *values*. Moreover, denote by $\\mathbf{q}$ a *query*. Then we can define the *attention* over $\\mathcal{D}$ as\n",
    "\n",
    "$$\n",
    "\\text{Attention}(\\mathbf{q}, \\mathcal{D}) = \\sum_{i=1}^{m} \\alpha(\\mathbf{q}, \\mathbf{k}_i) \\mathbf{v}_i\n",
    "$$\n",
    "\n",
    "where $\\alpha(\\mathbf{q}, \\mathbf{k}_i) \\in \\mathcal{R}$ $(i = 1, \\ldots, m)$ are scalar attention weights. This operation is commonly known as *attention pooling*. The term *attention* reflects the mechanism’s ability to focus on specific elements in the dataset, assigning higher weights $\\alpha$ to the terms in $\\mathcal{D}$ that are deemed more relevant or significant. Consequently, the attention mechanism produces a weighted linear combination of the values in the database, emphasizing the most important components.\n",
    "\n",
    "A common strategy for ensuring that the weights sum up to 1 is to normalize them via\n",
    "\n",
    "$$\n",
    "\\alpha(\\mathbf{q}, \\mathbf{k}_i) = \\frac{\\alpha(\\mathbf{q}, \\mathbf{k}_i)}{\\sum_j \\alpha(\\mathbf{q}, \\mathbf{k}_j)}.\n",
    "$$\n",
    "\n",
    "In particular, to ensure that the weights are also nonnegative, one can resort to exponentiation. This means that we can now pick any function $a(\\mathbf{q}, \\mathbf{k})$ and then apply the softmax operation used for multinomial models to it via\n",
    "\n",
    "$$\n",
    "\\alpha(\\mathbf{q}, \\mathbf{k}_i) = \\frac{\\exp(a(\\mathbf{q}, \\mathbf{k}_i))}{\\sum_j \\exp(a(\\mathbf{q}, \\mathbf{k}_j))}.\n",
    "$$\n",
    "\n",
    "Then, we need to keep the order of magnitude of the arguments in the exponential function under control. Assume that all the elements of the query $\\mathbf{q} \\in \\mathcal{R}^d$ and the key $\\mathbf{k}_i \\in \\mathcal{R}^d$ are independent and identically drawn random variables with zero mean and unit variance. The dot product between both vectors has zero mean and a variance of $d$. To ensure that the variance of the dot product still remains 1 regardless of vector length, we use the *scaled dot product attention* scoring function. That is, we rescale the dot product by $1/\\sqrt{d}$. We thus arrive at the first commonly used attention function that is used:\n",
    "\n",
    "$$\n",
    "a(\\mathbf{q}, \\mathbf{k}_i) = \\frac{\\mathbf{q}^\\top \\mathbf{k}_i}{\\sqrt{d}}.\n",
    "$$\n",
    "\n",
    "Note that attention weights $\\alpha$ still need normalizing. We can simplify this further via the softmax operation:\n",
    "\n",
    "$$\n",
    "\\alpha(\\mathbf{q}, \\mathbf{k}_i) = \\text{softmax}(a(\\mathbf{q}, \\mathbf{k}_i)) = \\frac{\\exp(\\mathbf{q}^\\top \\mathbf{k}_i / \\sqrt{d})}{\\sum_{j=1}^m \\exp(\\mathbf{q}^\\top \\mathbf{k}_j / \\sqrt{d})}.\n",
    "$$"
   ]
  },
  {
   "cell_type": "markdown",
   "metadata": {},
   "source": [
    "### Question 3 [code] (15 points)\n",
    "\n",
    "In sequence modeling, different input sequences often have different lengths.\n",
    "For example, consider the following batch of three sentences (each padded to the same maximum length):\n",
    "\n",
    "| Study | about | Deep    | Learning  |\n",
    "|-------|-------|---------|-----------|\n",
    "| Start | by    | code    | `<pad>` |\n",
    "| Hello | world | `<pad>` | `<pad>` |\n",
    "\n",
    "Here, the valid lengths are **[4, 3, 2]**, and `<pad>` represents padding tokens that should not affect the computation.\n",
    "\n",
    "To put them in the same batch and compute correctly, we usually apply a mask so that positions beyond the valid length are ignored — that is, their probabilities after softmax become zero.\n",
    "\n",
    "Implement the function ``masked_softmax``, which performs the softmax operation but masks out elements beyond the valid lengths. Then, run the sanity check cell to check your implementation.\n",
    "\n",
    "💡 **Hints:**\n",
    "You may find the following functions helpful (but you are not required to use them):\n",
    "- `nn.functional.softmax`\n",
    "- `torch.arange`"
   ]
  },
  {
   "cell_type": "code",
   "execution_count": 61,
   "metadata": {},
   "outputs": [],
   "source": [
    "def masked_softmax(X, valid_lens=None):  #@save\n",
    "    \"\"\"Perform softmax operation by masking elements on the last axis.\"\"\"\n",
    "    # Shape of X: (batch_size, num_queries, num_keys)\n",
    "    # Shape of valid_lens: (batch_size,) or (batch_size, num_queries)\n",
    "    def _sequence_mask(X, valid_lens, value=0):\n",
    "        # Shape of X: (batch_size * num_queries, num_keys)\n",
    "        # Shape of valid_lens: (batch_size * num_queries,)\n",
    "        ### YOUR CODE HERE (10 points)\n",
    "        # On the last axis, replace masked elements with a very large negative\n",
    "        # value, whose exponentiation outputs 0\n",
    "        mask = torch.arange(X.size(1), device=X.device).unsqueeze(0) >= valid_lens.unsqueeze(1)\n",
    "        X = X.masked_fill(mask, value)\n",
    "        return X\n",
    "        ### END OF YOUR CODE\n",
    "\n",
    "    if valid_lens is None:\n",
    "        ### YOUR CODE HERE (2 points)\n",
    "        X = torch.softmax(X, dim=-1)\n",
    "        return X\n",
    "        ### END OF YOUR CODE\n",
    "    else:\n",
    "        shape = X.shape\n",
    "        if valid_lens.dim() == 1:\n",
    "            valid_lens = torch.repeat_interleave(valid_lens, shape[1])\n",
    "        else:\n",
    "            valid_lens = valid_lens.reshape(-1)\n",
    "        # On the last axis, replace masked elements with a very large negative\n",
    "        # value, whose exponentiation outputs 0\n",
    "        X = _sequence_mask(X.reshape(-1, shape[-1]), valid_lens, value=-1e6) # replace masked positions\n",
    "        ### YOUR CODE HERE (3 points)\n",
    "        X = X.reshape(shape)\n",
    "        X =  torch.softmax(X, dim=-1)\n",
    "        return X\n",
    "        ### END OF YOUR CODE"
   ]
  },
  {
   "cell_type": "code",
   "execution_count": 62,
   "metadata": {},
   "outputs": [
    {
     "data": {
      "text/plain": [
       "tensor([[[0.1847, 0.2163, 0.2917, 0.3073]],\n",
       "\n",
       "        [[0.3908, 0.6092, 0.0000, 0.0000]],\n",
       "\n",
       "        [[0.4499, 0.2407, 0.3094, 0.0000]]])"
      ]
     },
     "execution_count": 62,
     "metadata": {},
     "output_type": "execute_result"
    }
   ],
   "source": [
    "# sanity check\n",
    "# Assume num_queries = 1\n",
    "masked_softmax(torch.rand(3, 1, 4), torch.tensor([4, 2, 3]))"
   ]
  },
  {
   "cell_type": "markdown",
   "metadata": {},
   "source": [
    "### Question 4 (15 points)\n",
    "In practice, we often think of minibatches for efficiency, such as computing attention for $n$ queries and $m$ key-value pairs, where queries and keys are of dimension $d$ and values are of dimension $v$. The scaled dot product attention of queries $\\mathbf{Q} \\in \\mathcal{R}^{n \\times d}$, keys $\\mathbf{K} \\in \\mathcal{R}^{m \\times d}$, and values $\\mathbf{V} \\in \\mathcal{R}^{m \\times v}$ thus can be written as\n",
    "\n",
    "$$\n",
    "\\text{softmax} \\left( \\frac{\\mathbf{Q}\\mathbf{K}^\\top}{\\sqrt{d}} \\right) \\mathbf{V} \\in \\mathcal{R}^{n \\times v}.\n",
    "$$"
   ]
  },
  {
   "cell_type": "markdown",
   "metadata": {},
   "source": [
    "**Question 4.1 [written] (5 points)** Write the shape of queries, keys and values during the calculation of scaled dot product attention. **You should fill in the shape inside the code box**.\n",
    "\n",
    "**Question 4.2 [code] (10 points)** Implement function ``DotProductAttention`` that calculates the scaled dot product attention. Then, run the sanity check cell to check your implementation.\n",
    "\n",
    "💡 **Hint:**  \n",
    "- You should use the previously implemented `masked_softmax` function to handle sequences of different lengths.  \n",
    "- You may find the following functions helpful (but you are not required to use them):\n",
    "    - `torch.bmm`"
   ]
  },
  {
   "cell_type": "code",
   "execution_count": 63,
   "metadata": {},
   "outputs": [],
   "source": [
    "class DotProductAttention(nn.Module):  #@save\n",
    "    \"\"\"Scaled dot product attention.\"\"\"\n",
    "    def __init__(self, dropout):\n",
    "        super().__init__()\n",
    "        self.dropout = nn.Dropout(dropout)\n",
    "\n",
    "    def forward(self, queries, keys, values, valid_lens=None):\n",
    "        # Shape of queries: (batch_size, n, d)\n",
    "        # Shape of keys: (batch_size, m, d)\n",
    "        # Shape of values: (batch_size, m, v)\n",
    "        # Shape of valid_lens: (batch_size,) or (batch_size, num_queries)\n",
    "\n",
    "        ### YOUR CODE HERE\n",
    "        d = queries.shape[-1]\n",
    "        scores = torch.bmm(queries, keys.transpose(1, 2)) / torch.sqrt(torch.tensor(d, dtype=torch.float32))\n",
    "        attention_weights = masked_softmax(scores, valid_lens)\n",
    "        ### END OF YOUR CODE\n",
    "        return torch.bmm(self.dropout(attention_weights), values), attention_weights"
   ]
  },
  {
   "cell_type": "code",
   "execution_count": 64,
   "metadata": {},
   "outputs": [
    {
     "name": "stdout",
     "output_type": "stream",
     "text": [
      "Pass!\n"
     ]
    }
   ],
   "source": [
    "# sanity check\n",
    "queries = torch.normal(0, 1, (3, 10, 4))\n",
    "keys = torch.normal(0, 1, (3, 12, 4))\n",
    "values = torch.normal(0, 1, (3, 12, 4))\n",
    "valid_lens = torch.tensor([7, 9, 12])\n",
    "\n",
    "attention = DotProductAttention(dropout=0.5)\n",
    "attention.eval()\n",
    "results, attention_weights = attention(queries, keys, values, valid_lens)\n",
    "d2l.check_shape(results, (3, 10, 4))\n",
    "print(\"Pass!\")"
   ]
  },
  {
   "cell_type": "code",
   "execution_count": 65,
   "metadata": {},
   "outputs": [
    {
     "data": {
      "image/png": "[encoded data removed]",
      "text/plain": [
       "<Figure size 1200x300 with 6 Axes>"
      ]
     },
     "metadata": {},
     "output_type": "display_data"
    }
   ],
   "source": [
    "b, q, k = attention_weights.shape\n",
    "fig, axes = plt.subplots(1, b, figsize=(4*b, 3))\n",
    "if b == 1:\n",
    "    axes = [axes]\n",
    "\n",
    "for i, ax in enumerate(axes):\n",
    "    mat = attention_weights[i].detach().cpu().numpy()   # shape (num_queries, num_keys)\n",
    "    im = ax.imshow(mat, cmap='viridis', aspect='auto', interpolation='nearest')\n",
    "    ax.set_xlabel('Keys')\n",
    "    ax.set_ylabel('Queries')\n",
    "    ax.set_title(f'Batch {i+1}')\n",
    "    fig.colorbar(im, ax=ax)\n",
    "\n",
    "plt.tight_layout()\n",
    "plt.show()"
   ]
  },
  {
   "cell_type": "markdown",
   "metadata": {},
   "source": [
    "## Attention Seq2Seq\n",
    "Attention mechanisms can be effectively integrated into encoder-decoder architectures for sequence-to-sequence learning. Traditionally, in an RNN-based approach, all relevant information from the source sequence is encoded into a fixed-dimensional state representation by the encoder. However, rather than maintaining this state—represented by the context variable $\\mathbf{c}$ that summarizes the source sentence—as a fixed value, it can be dynamically updated. This update is based on both the original text (encoder hidden states $\\mathbf{h}_{t}$) and the previously generated text (decoder hidden states $\\mathbf{s}_{t’-1}$). As a result, we obtain an updated context variable $\\mathbf{c}_{t’}$ after each decoding time step $t’$. This approach allows the model to adapt the context dynamically, even for input sequences of length $T$, thereby improving the ability to handle long-range dependencies and capture more nuanced information from the source sequence.\n",
    "In this case, the context variable is the output of attention pooling:\n",
    "\n",
    "\\begin{equation}\n",
    "\\mathbf{c}_{t'} = \\sum_{t=1}^{T} \\alpha(\\mathbf{s}_{t'-1}, \\mathbf{h}_t) \\mathbf{h}_t.\n",
    "\\end{equation}\n",
    "\n",
    "We used $\\mathbf{s}_{t'-1}$ as the query, and $\\mathbf{h}_t$ as both the key and the value. Note that $\\mathbf{c}_{t'}$ is then used to generate the state $\\mathbf{s}_{t'}$ and to generate a new token."
   ]
  },
  {
   "cell_type": "markdown",
   "metadata": {},
   "source": [
    "### Question 5 [code] (10 points)\n",
    "Implement the RNN decoder in the ``Seq2SeqAttentionDecoder`` class. The decoder’s state is initialized using three components: \n",
    "\n",
    "(i) the hidden states of the encoder’s last layer across all time steps, which are utilized as keys and values for the attention mechanism; \n",
    "\n",
    "(ii) the hidden state of the encoder’s final time step at all layers, which initializes the decoder’s hidden state; and \n",
    "\n",
    "(iii) the valid length of the encoder to exclude padding tokens during attention pooling. \n",
    "\n",
    "During each decoding time step, the hidden state of the decoder’s final layer from the previous step is used as the query for the attention mechanism. The attention mechanism’s output is then concatenated with the input embedding to form the input for the RNN decoder, effectively guiding the generation process with context from both the source sequence and previous decoder outputs.\n",
    "\n",
    "Then, run the sanity check cell to check your implementation."
   ]
  },
  {
   "cell_type": "code",
   "execution_count": 66,
   "metadata": {},
   "outputs": [],
   "source": [
    "class Seq2SeqAttentionDecoder(nn.Module):\n",
    "    def __init__(self, vocab_size, embed_size, num_hiddens, num_layers,\n",
    "                 dropout=0):\n",
    "        super().__init__()\n",
    "        self.attention = d2l.AdditiveAttention(num_hiddens, dropout)\n",
    "        self.embedding = nn.Embedding(vocab_size, embed_size)\n",
    "        self.rnn = nn.GRU(\n",
    "            embed_size + num_hiddens, num_hiddens, num_layers,\n",
    "            dropout=dropout)\n",
    "        self.dense = nn.LazyLinear(vocab_size)\n",
    "        self.apply(d2l.init_seq2seq)\n",
    "\n",
    "    def init_state(self, enc_outputs, enc_valid_lens):\n",
    "        # Shape of outputs: (num_steps_enc, batch_size, num_hiddens).\n",
    "        # Shape of hidden_state: (num_layers, batch_size, num_hiddens)\n",
    "        outputs, hidden_state = enc_outputs\n",
    "        return (outputs.permute(1, 0, 2), hidden_state, enc_valid_lens)\n",
    "\n",
    "    def forward(self, X, state):\n",
    "        # Shape of enc_outputs: (batch_size, num_steps_enc, num_hiddens)\n",
    "        # Shape of hidden_state: (num_layers, batch_size, num_hiddens)\n",
    "        enc_outputs, hidden_state, enc_valid_lens = state\n",
    "        # Shape of the output X: (num_steps_dec, batch_size, embed_size)\n",
    "        X = self.embedding(X).permute(1, 0, 2)\n",
    "        outputs = []\n",
    "        ### YOUR CODE HERE\n",
    "        for x in X:\n",
    "            query = hidden_state[-1].unsqueeze(1)\n",
    "            context = self.attention(query, enc_outputs, enc_outputs,\n",
    "                                     enc_valid_lens)\n",
    "            rnn_input = torch.cat((context, x.unsqueeze(1)), dim=-1)\n",
    "            out, hidden_state = self.rnn(rnn_input.permute(1, 0, 2), hidden_state)\n",
    "            outputs.append(self.dense(out.squeeze(0)))\n",
    "        outputs = torch.stack(outputs, dim=0)\n",
    "        ### END OF YOUR CODE\n",
    "        return outputs.permute(1, 0, 2), [enc_outputs, hidden_state,\n",
    "                                          enc_valid_lens]"
   ]
  },
  {
   "cell_type": "code",
   "execution_count": 67,
   "metadata": {},
   "outputs": [
    {
     "name": "stdout",
     "output_type": "stream",
     "text": [
      "Pass!\n"
     ]
    }
   ],
   "source": [
    "# Sanity check\n",
    "vocab_size, embed_size, num_hiddens, num_layers = 10, 8, 16, 2\n",
    "batch_size = 4\n",
    "num_steps_enc = 5\n",
    "num_steps_dec = 7\n",
    "\n",
    "# instantiate encoder and decoder\n",
    "encoder = d2l.Seq2SeqEncoder(vocab_size, embed_size, num_hiddens, num_layers)\n",
    "decoder = Seq2SeqAttentionDecoder(vocab_size, embed_size, num_hiddens, num_layers)\n",
    "\n",
    "# dummy inputs\n",
    "X_enc = torch.zeros((batch_size, num_steps_enc), dtype=torch.long)\n",
    "X_dec = torch.zeros((batch_size, num_steps_dec), dtype=torch.long)\n",
    "\n",
    "# initialize decoder state using encoder outputs\n",
    "state = decoder.init_state(encoder(X_enc), None)\n",
    "\n",
    "# forward pass through decoder\n",
    "output, state = decoder(X_dec, state)\n",
    "\n",
    "d2l.check_shape(output, (batch_size, num_steps_dec, vocab_size))\n",
    "d2l.check_shape(state[0], (batch_size, num_steps_enc, num_hiddens))  # encoder outputs\n",
    "d2l.check_shape(state[1], (num_layers, batch_size, num_hiddens)) # hidden_state\n",
    "print(\"Pass!\")"
   ]
  },
  {
   "cell_type": "markdown",
   "metadata": {},
   "source": [
    "## Multihead Attention\n",
    "Rather than relying on a single attention pooling operation, the queries, keys, and values can be transformed through $h$ independently learned linear projections. These $h$ projected queries, keys, and values are then processed in parallel through attention pooling. Afterward, the $h$ resulting attention outputs, known as ``heads``, are concatenated and passed through another learned linear projection to generate the final output. This architecture, referred to as ``multi-head attention``, allows each attention head to focus on different parts of the input, enabling the model to capture a wider range of information."
   ]
  },
  {
   "cell_type": "markdown",
   "metadata": {},
   "source": [
    "![ma](Multihead_attention.png)"
   ]
  },
  {
   "cell_type": "markdown",
   "metadata": {},
   "source": [
    "Given a query $\\mathbf{q} \\in \\mathcal{R}^{d_q}$, a key $\\mathbf{k} \\in \\mathcal{R}^{d_k}$, and a value $\\mathbf{v} \\in \\mathcal{R}^{d_v}$, each attention head $\\mathbf{h}_i$ $(i = 1, \\ldots, h)$ is computed as:\n",
    "\n",
    "\\begin{equation}\n",
    "\\mathbf{h}_i = f(\\mathbf{W}_i^{(q)} \\mathbf{q}, \\mathbf{W}_i^{(k)} \\mathbf{k}, \\mathbf{W}_i^{(v)} \\mathbf{v}) \\in \\mathcal{R}^{p_v},\n",
    "\\end{equation}\n",
    "\n",
    "where $\\mathbf{W}_i^{(q)} \\in \\mathcal{R}^{p_q \\times d_q}$, $\\mathbf{W}_i^{(k)} \\in \\mathcal{R}^{p_k \\times d_k}$, and $\\mathbf{W}_i^{(v)} \\in \\mathcal{R}^{p_v \\times d_v}$ are learnable parameters and $f$ is attention pooling. The multi-head attention output is another linear transformation via learnable parameters $\\mathbf{W}_o \\in \\mathcal{R}^{p_o \\times hp_v}$ of the concatenation of $h$ heads:\n",
    "\n",
    "\\begin{equation}\n",
    "\\mathbf{W}_o \n",
    "\\begin{bmatrix}\n",
    "\\mathbf{h}_1 \\\\\n",
    "\\vdots \\\\\n",
    "\\mathbf{h}_h\n",
    "\\end{bmatrix}\n",
    "\\in \\mathcal{R}^{p_o}. \n",
    "\\end{equation}\n",
    "\n",
    "Based on this design, each head may attend to different parts of the input. More sophisticated functions than the simple weighted average can be expressed."
   ]
  },
  {
   "cell_type": "markdown",
   "metadata": {},
   "source": [
    "### Question 6 [written] (10 points)\n",
    "Please describe the benefits of using multi-head attention instead of single head attention."
   ]
  },
  {
   "cell_type": "markdown",
   "metadata": {},
   "source": [
    "Multi-head attention splits the input into multiple heads, with each head running a single-head attention mechanism independently, and the outputs are combines at the end for the final result. This means it can capture more accurate and diverse relationships because of the ability to focus on different aspects of the input data simultaneously, like encoding multiple relationships and nuances for each word. It thus has better contextual understanding and generate more human-like or accurate results, with higher efficiency. Single head attention calculates one set of attention scores based on a single set of queries keys and values, meaning it can only learn one type of relationship/perspective from the input at a time, which is too simplistic for context data and may not capture all nuances of the input."
   ]
  },
  {
   "cell_type": "markdown",
   "metadata": {},
   "source": [
    "### Question 7 [code] (30 points)\n",
    "In this implementation, we choose the scaled dot product attention for each head of the multi-head attention. To avoid significant growth of computational cost and parameterization cost, we set $p_q = p_k = p_v = p_o / h$. Note that $h$ heads can be computed in parallel if we set the number of outputs of linear transformations for the query, key, and value to $p_qh = p_kh = p_vh = p_o$. In the following implementation, $p_o$ is specified via the argument ``num_hiddens``.\n",
    "\n",
    "\n",
    "To allow for parallel computation of multiple heads, the ``MultiHeadAttention`` class uses two transposition methods ``transpose_qkv`` and ``transpose_output``. Specifically, the ``transpose_output`` method reverses the operation of the ``transpose_qkv`` method.\n",
    "\n",
    "**Question 7.1 [code] (10 points)** Implement function ``transpose_qkv``, which is the transposition for parallel computation of multiple attention heads.\n",
    "\n",
    "**Question 7.2 [code] (10 points)** Implement function ``transpose_output`` that reverse the operation of ``transpose_qkv``.\n",
    "\n",
    "**Question 7.3 [code] (10 points)**\n",
    "Complete `MultiHeadAttention` class. (Hint: you can use the two function you defined in question 7.1 and 7.2 .)\n",
    "\n",
    "\n",
    "💡 **Hints:**\n",
    "You may find the following functions helpful (but you are not required to use them):\n",
    "- `torch.repeat_interleave`\n",
    "- `torch.reshape`\n",
    "- `torch.permute`"
   ]
  },
  {
   "cell_type": "code",
   "execution_count": 68,
   "metadata": {},
   "outputs": [],
   "source": [
    "class MultiHeadAttention(nn.Module):  #@save\n",
    "    \"\"\"Multi-head attention.\"\"\"\n",
    "    def __init__(self, num_hiddens, num_heads, dropout, bias=False, **kwargs):\n",
    "        super().__init__()\n",
    "        self.num_heads = num_heads\n",
    "        self.attention = d2l.DotProductAttention(dropout)\n",
    "        self.W_q = nn.LazyLinear(num_hiddens, bias=bias)\n",
    "        self.W_k = nn.LazyLinear(num_hiddens, bias=bias)\n",
    "        self.W_v = nn.LazyLinear(num_hiddens, bias=bias)\n",
    "        self.W_o = nn.LazyLinear(num_hiddens, bias=bias)\n",
    "\n",
    "    def forward(self, queries, keys, values, valid_lens):\n",
    "        # Shape of queries, keys, or values:\n",
    "        # (batch_size, no. of queries or key-value pairs, num_hiddens)\n",
    "        # Shape of valid_lens: (batch_size,) or (batch_size, num_queries)\n",
    "        \n",
    "        ### YOUR CODE HERE\n",
    "        queries = self.transpose_qkv(self.W_q(queries))\n",
    "        keys = self.transpose_qkv(self.W_k(keys))\n",
    "        values = self.transpose_qkv(self.W_v(values))\n",
    "        if valid_lens is not None:\n",
    "            if valid_lens.dim() == 1:\n",
    "                valid_lens = valid_lens.repeat_interleave(self.num_heads)\n",
    "            else:\n",
    "                valid_lens = valid_lens.repeat_interleave(self.num_heads, dim=0)\n",
    "        output = self.attention(queries, keys, values, valid_lens) \n",
    "        #returns weighted values, shape (batch_size * num_heads, num_queries, num_hiddens/num_heads)\n",
    "        output = self.transpose_output(output)\n",
    "        ### END OF YOUR CODE\n",
    "        return self.W_o(output)\n",
    "    \n",
    "    def transpose_qkv(self, X):\n",
    "        \"\"\"Transposition for parallel computation of multiple attention heads.\"\"\"\n",
    "        # Shape of X: (batch_size, no. of queries or key-value pairs,\n",
    "        # num_hiddens)\n",
    "\n",
    "        ### YOUR CODE HERE\n",
    "        batch_size, seq_len, num_hiddens = X.shape\n",
    "        num_hiddens_per_head = num_hiddens // self.num_heads\n",
    "        X = X.reshape(batch_size, seq_len, self.num_heads, num_hiddens_per_head)\n",
    "        X = X.permute(0, 2, 1, 3)\n",
    "        X = X.reshape(batch_size * self.num_heads, seq_len, num_hiddens_per_head)\n",
    "        return X\n",
    "        ### END OF YOUR CODE\n",
    "\n",
    "    def transpose_output(self, X):\n",
    "        \"\"\"Reverse the operation of transpose_qkv.\"\"\"\n",
    "        # Shape of X: (batch_size * num_heads, num_queries,\n",
    "        # num_hiddens / num_heads)\n",
    "        \n",
    "        ### YOUR CODE HERE\n",
    "\n",
    "        batch_size_times_heads, seq_len, num_hiddens_per_head = X.shape\n",
    "        batch_size = batch_size_times_heads // self.num_heads             \n",
    "        X = X.reshape(batch_size, self.num_heads, seq_len, num_hiddens_per_head)\n",
    "        X = X.permute(0, 2, 1, 3)\n",
    "        X = X.reshape(batch_size, seq_len, num_hiddens_per_head * self.num_heads)\n",
    "        return X\n",
    "        # Shape of output: (batch_size, seq_len, num_hiddens)\n",
    "        ### END OF YOUR CODE"
   ]
  },
  {
   "cell_type": "code",
   "execution_count": 69,
   "metadata": {},
   "outputs": [
    {
     "name": "stdout",
     "output_type": "stream",
     "text": [
      "Pass!\n"
     ]
    }
   ],
   "source": [
    "# sanity check\n",
    "num_hiddens, num_heads = 100, 5\n",
    "attention = MultiHeadAttention(num_hiddens, num_heads, 0.5)\n",
    "batch_size, num_queries, num_kvpairs = 2, 4, 6\n",
    "valid_lens = torch.tensor([3, 6])\n",
    "X = torch.ones((batch_size, num_queries, num_hiddens))\n",
    "Y = torch.ones((batch_size, num_kvpairs, num_hiddens))\n",
    "d2l.check_shape(attention(X, Y, Y, valid_lens),\n",
    "                (batch_size, num_queries, num_hiddens))\n",
    "print(\"Pass!\")"
   ]
  }
 ],
 "metadata": {
  "kernelspec": {
   "display_name": "nlp",
   "language": "python",
   "name": "python3"
  },
  "language_info": {
   "codemirror_mode": {
    "name": "ipython",
    "version": 3
   },
   "file_extension": ".py",
   "mimetype": "text/x-python",
   "name": "python",
   "nbconvert_exporter": "python",
   "pygments_lexer": "ipython3",
   "version": "3.9.23"
  }
 },
 "nbformat": 4,
 "nbformat_minor": 2
}
